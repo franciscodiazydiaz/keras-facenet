{
 "cells": [
  {
   "cell_type": "markdown",
   "metadata": {},
   "source": [
    "# Demo webcam/image"
   ]
  },
  {
   "cell_type": "code",
   "execution_count": null,
   "metadata": {
    "ExecuteTime": {
     "end_time": "2017-12-27T10:43:38.815479Z",
     "start_time": "2017-12-27T10:43:38.352970Z"
    }
   },
   "outputs": [],
   "source": [
    "import numpy as np\n",
    "import cv2\n",
    "import matplotlib.pyplot as plt\n",
    "import signal\n",
    "from IPython import display\n",
    "\n",
    "from sklearn.svm import SVC\n",
    "from sklearn.preprocessing import LabelEncoder\n",
    "from skimage.transform import resize\n",
    "from keras.models import load_model\n",
    "\n",
    "import joblib\n",
    "import mtcnn\n",
    "from imageio import imread\n",
    "\n",
    "%matplotlib inline"
   ]
  },
  {
   "cell_type": "markdown",
   "metadata": {},
   "source": [
    "## Configuration"
   ]
  },
  {
   "cell_type": "markdown",
   "metadata": {},
   "source": [
    "This demo uses the labels and model trained in `svm-classification.ipynb`."
   ]
  },
  {
   "cell_type": "code",
   "execution_count": null,
   "metadata": {
    "ExecuteTime": {
     "end_time": "2017-12-27T10:43:44.388891Z",
     "start_time": "2017-12-27T10:43:39.027900Z"
    }
   },
   "outputs": [],
   "source": [
    "plt.rcParams[\"figure.figsize\"] = (20,10)\n",
    "\n",
    "model_path = '../model/keras/model/facenet_keras.h5'\n",
    "model = load_model(model_path)\n",
    "\n",
    "clf = joblib.load('svm-model.sav')\n",
    "labels = np.load('svm-labels.npy')\n",
    "labels"
   ]
  },
  {
   "cell_type": "markdown",
   "metadata": {},
   "source": [
    "## Functions"
   ]
  },
  {
   "cell_type": "code",
   "execution_count": null,
   "metadata": {
    "ExecuteTime": {
     "end_time": "2017-12-27T10:43:44.419587Z",
     "start_time": "2017-12-27T10:43:44.404326Z"
    }
   },
   "outputs": [],
   "source": [
    "def prewhiten(x):\n",
    "    if x.ndim == 4:\n",
    "        axis = (1, 2, 3)\n",
    "        size = x[0].size\n",
    "    elif x.ndim == 3:\n",
    "        axis = (0, 1, 2)\n",
    "        size = x.size\n",
    "    else:\n",
    "        raise ValueError('Dimension should be 3 or 4')\n",
    "\n",
    "    mean = np.mean(x, axis=axis, keepdims=True)\n",
    "    std = np.std(x, axis=axis, keepdims=True)\n",
    "    std_adj = np.maximum(std, 1.0/np.sqrt(size))\n",
    "    y = (x - mean) / std_adj\n",
    "    return y\n",
    "\n",
    "def l2_normalize(x, axis=-1, epsilon=1e-10):\n",
    "    output = x / np.sqrt(np.maximum(np.sum(np.square(x), axis=axis, keepdims=True), epsilon))\n",
    "    return output"
   ]
  },
  {
   "cell_type": "code",
   "execution_count": null,
   "metadata": {
    "ExecuteTime": {
     "end_time": "2017-12-27T10:43:44.447934Z",
     "start_time": "2017-12-27T10:43:44.439987Z"
    }
   },
   "outputs": [],
   "source": [
    "def calc_embs(imgs, margin, batch_size):\n",
    "    aligned_images = prewhiten(imgs)\n",
    "    pd = []\n",
    "    for start in range(0, len(aligned_images), batch_size):\n",
    "        pd.append(model.predict_on_batch(aligned_images[start:start+batch_size]))\n",
    "    embs = l2_normalize(np.concatenate(pd))\n",
    "\n",
    "    return embs"
   ]
  },
  {
   "cell_type": "code",
   "execution_count": null,
   "metadata": {
    "ExecuteTime": {
     "end_time": "2017-12-27T10:43:44.843761Z",
     "start_time": "2017-12-27T10:43:44.469101Z"
    }
   },
   "outputs": [],
   "source": [
    "class FaceDemo(object):\n",
    "    def __init__(self, clf, labels):\n",
    "        self.vc = None\n",
    "        self.margin = 32\n",
    "        self.batch_size = 1\n",
    "        self.n_img_per_person = 10\n",
    "        self.is_interrupted = False\n",
    "        self.data = {}\n",
    "        self.le = LabelEncoder().fit(labels)\n",
    "        self.clf = clf\n",
    "        self.detector = mtcnn.MTCNN()\n",
    "        \n",
    "    def _signal_handler(self, signal, frame):\n",
    "        self.is_interrupted = True         \n",
    "\n",
    "    def capture(self):\n",
    "        vc = cv2.VideoCapture(0)\n",
    "        self.vc = vc\n",
    "        if vc.isOpened():\n",
    "            is_capturing, _ = vc.read()\n",
    "        else:\n",
    "            is_capturing = False\n",
    "\n",
    "        signal.signal(signal.SIGINT, self._signal_handler)\n",
    "        self.is_interrupted = False\n",
    "        \n",
    "        while is_capturing:\n",
    "            is_capturing, frame = vc.read()\n",
    "\n",
    "            frame = self.infer(frame)\n",
    "            \n",
    "            display.clear_output(wait=True)\n",
    "            plt.imshow(frame)\n",
    "            plt.xticks([])\n",
    "            plt.yticks([])\n",
    "            \n",
    "            try:\n",
    "                plt.pause(0.1)\n",
    "            except Exception:\n",
    "                pass\n",
    "            \n",
    "            if self.is_interrupted:\n",
    "                vc.release()\n",
    "                break\n",
    "\n",
    "    def align_face(self, img, shape):\n",
    "        (h, w) = img.shape[:2]\n",
    "        \n",
    "        # compute the angle between the eye centroids\n",
    "        dY = shape['right_eye'][1] - shape['left_eye'][1]\n",
    "        dX = shape['right_eye'][0] - shape['left_eye'][0]\n",
    "        angle = np.degrees(np.arctan2(dY, dX))\n",
    "\n",
    "        # compute center (x, y)-coordinates (i.e., the median point)\n",
    "        # between the two eyes in the input image\n",
    "        eyesCenter = ((shape['left_eye'][0] + shape['right_eye'][0]) // 2,\n",
    "                      (shape['left_eye'][1] + shape['right_eye'][1]) // 2)\n",
    "\n",
    "        # grab the rotation matrix for rotating and scaling the face\n",
    "        M = cv2.getRotationMatrix2D(eyesCenter, angle, scale=1.0)\n",
    "        aligned = cv2.warpAffine(img, M, (w, h), flags=cv2.INTER_CUBIC)\n",
    "        \n",
    "        return aligned\n",
    "            \n",
    "    def infer(self, frame):\n",
    "        frame = cv2.cvtColor(frame, cv2.COLOR_BGR2RGB)\n",
    "        faces = self.detector.detect_faces(frame)\n",
    "            \n",
    "        #preds = []\n",
    "        if len(faces) > 0:\n",
    "            for face in faces:\n",
    "                if face['confidence'] > 0.8:\n",
    "                    #print(face)\n",
    "                    (x, y, w, h) = face['box']\n",
    "                    img_size = np.asarray(frame.shape)[0:2]\n",
    "                    left = max(x-self.margin//2, 0)\n",
    "                    right = max(y-self.margin//2, 0)\n",
    "                    bottom = min(x+w+self.margin//2, img_size[1])\n",
    "                    top = min(y+h+self.margin//2, img_size[0])\n",
    "                    #img = self.align_face(frame, face['keypoints'])\n",
    "                    img = resize(frame[right:top, left:bottom, :], (160, 160), mode='reflect')\n",
    "\n",
    "                    embs = calc_embs(img[np.newaxis], self.margin, 1)                    \n",
    "                    predict_proba = clf.predict_proba(embs)\n",
    "                    pred = self.le.inverse_transform([p.argmax() for p in predict_proba])\n",
    "                    proba = [p[p.argmax()] for p in predict_proba]\n",
    "\n",
    "                    # Mean + Std from the error samples in the test dataset\n",
    "                    if proba[0] > 0.30:\n",
    "                        cv2.putText(frame, '{} ({:.2f})'.format(pred[0], proba[0]), (x-self.margin, y-self.margin-10),\n",
    "                                    cv2.FONT_HERSHEY_SIMPLEX, 1.25,(255,0,0), 2, cv2.LINE_AA)\n",
    "\n",
    "                    cv2.rectangle(frame, (left-1, right-1), (bottom+1, top+1), (255, 0, 0), thickness=3)\n",
    "            \n",
    "        return frame"
   ]
  },
  {
   "cell_type": "markdown",
   "metadata": {},
   "source": [
    "## Webcam"
   ]
  },
  {
   "cell_type": "code",
   "execution_count": null,
   "metadata": {},
   "outputs": [],
   "source": [
    "f = FaceDemo(clf, labels)"
   ]
  },
  {
   "cell_type": "code",
   "execution_count": null,
   "metadata": {},
   "outputs": [],
   "source": [
    "f.capture()"
   ]
  },
  {
   "cell_type": "markdown",
   "metadata": {},
   "source": [
    "## Image"
   ]
  },
  {
   "cell_type": "code",
   "execution_count": null,
   "metadata": {},
   "outputs": [],
   "source": [
    "picture = '~/Desktop/Screen Shot 2020-04-27 at 23.39.04.png'\n",
    "\n",
    "img = imread(picture)\n",
    "img = cv2.cvtColor(img, cv2.COLOR_BGR2RGB)\n",
    "\n",
    "h, w, d = img.shape\n",
    "\n",
    "plt.figure(figsize=(w/90,h/90))\n",
    "plt.imshow(f.infer(img), aspect='auto')"
   ]
  }
 ],
 "metadata": {
  "kernelspec": {
   "display_name": "Python 3",
   "language": "python",
   "name": "python3"
  },
  "language_info": {
   "codemirror_mode": {
    "name": "ipython",
    "version": 3
   },
   "file_extension": ".py",
   "mimetype": "text/x-python",
   "name": "python",
   "nbconvert_exporter": "python",
   "pygments_lexer": "ipython3",
   "version": "3.6.4"
  },
  "varInspector": {
   "cols": {
    "lenName": 16,
    "lenType": 16,
    "lenVar": 40
   },
   "kernels_config": {
    "python": {
     "delete_cmd_postfix": "",
     "delete_cmd_prefix": "del ",
     "library": "var_list.py",
     "varRefreshCmd": "print(var_dic_list())"
    },
    "r": {
     "delete_cmd_postfix": ") ",
     "delete_cmd_prefix": "rm(",
     "library": "var_list.r",
     "varRefreshCmd": "cat(var_dic_list()) "
    }
   },
   "types_to_exclude": [
    "module",
    "function",
    "builtin_function_or_method",
    "instance",
    "_Feature"
   ],
   "window_display": false
  }
 },
 "nbformat": 4,
 "nbformat_minor": 2
}
