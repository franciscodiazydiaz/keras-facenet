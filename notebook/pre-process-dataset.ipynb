{
 "cells": [
  {
   "cell_type": "markdown",
   "metadata": {},
   "source": [
    "# Pre Process Dataset"
   ]
  },
  {
   "cell_type": "code",
   "execution_count": null,
   "metadata": {},
   "outputs": [],
   "source": [
    "import os\n",
    "\n",
    "import glob\n",
    "import logging\n",
    "import multiprocessing as mp\n",
    "import time\n",
    "import hashlib\n",
    "\n",
    "import cv2\n",
    "import mtcnn\n",
    "import numpy as np\n",
    "\n",
    "from skimage.transform import resize"
   ]
  },
  {
   "cell_type": "code",
   "execution_count": null,
   "metadata": {},
   "outputs": [],
   "source": [
    "logger = logging.getLogger(__name__)\n",
    "logger.setLevel(logging.INFO)"
   ]
  },
  {
   "cell_type": "code",
   "execution_count": null,
   "metadata": {},
   "outputs": [],
   "source": [
    "def main(input_dir, output_dir, align=False, crop_dim=(160,160), margin=32):\n",
    "    \"\"\"\n",
    "    param: input_dir: Contains other directories with images named by identity\n",
    "    param: output_dir: Path where faces are stored after being proccesed\n",
    "    param: crop_dim: (H,W) dimensions\n",
    "    \"\"\"\n",
    "    start_time = time.time()\n",
    "    #pool = mp.Pool(processes=mp.cpu_count())\n",
    "\n",
    "    if not os.path.exists(output_dir):\n",
    "        os.makedirs(output_dir)\n",
    "\n",
    "    for image_dir in os.listdir(input_dir):\n",
    "        image_output_dir = os.path.join(output_dir, os.path.basename(image_dir))\n",
    "        if not os.path.exists(image_output_dir):\n",
    "            os.makedirs(image_output_dir)\n",
    "\n",
    "    image_paths = glob.glob(os.path.join(input_dir, '**/*.jpg'))\n",
    "    for image_path in image_paths:\n",
    "        logger.info('Processing: {}'.format(image_path))\n",
    "        image_output_dir = os.path.join(output_dir, os.path.basename(os.path.dirname(image_path)))\n",
    "        #pool.apply_async(preprocess_image, (image_path, image_output_dir, crop_dim))\n",
    "        preprocess_image(image_path, image_output_dir, align, crop_dim, margin)\n",
    "\n",
    "    #pool.close()\n",
    "    #pool.join()\n",
    "    #logger.info('Completed in {} seconds'.format(time.time() - start_time))\n",
    "    print('Completed in {} seconds'.format(time.time() - start_time))"
   ]
  },
  {
   "cell_type": "code",
   "execution_count": null,
   "metadata": {},
   "outputs": [],
   "source": [
    "def preprocess_image(image_path, image_output_dir, align, crop_dim, margin):\n",
    "    \"\"\"\n",
    "    param: image_path: The path of the image\n",
    "    param: image_output_dir: The directory where the output faces are stored\n",
    "    param: crop_dim:\n",
    "    param: margin: Add a margin to the detected coordinates of the face \n",
    "    \"\"\"\n",
    "    # Remove extension from file name keeping the image ID\n",
    "    identity = os.path.basename(image_path).split('.')[0]\n",
    "    output_path = os.path.join(image_output_dir, identity)\n",
    "    \n",
    "    logger.info('Reading image: {}'.format(image_path))\n",
    "    image = cv2.imread(image_path)\n",
    "    image = cv2.cvtColor(image, cv2.COLOR_BGR2RGB)\n",
    "    \n",
    "    # Skip processing if image is already there\n",
    "    if len(glob.glob('{}*.jpg'.format(output_path))) < 1:\n",
    "        faces = detect_faces(image, margin)\n",
    "        logger.info('Faces: {}'.format(len(faces)))\n",
    "\n",
    "        for index, face in enumerate(faces):\n",
    "            if align:\n",
    "                image = align_face(image, face['keypoints'])\n",
    "            cropped = image[face['right']:face['top'], face['left']:face['bottom'], :]\n",
    "            cropped = cv2.resize(cropped, crop_dim, interpolation = cv2.INTER_AREA)\n",
    "            cropped = cv2.cvtColor(cropped, cv2.COLOR_BGR2RGB)  \n",
    "            # Store cropped\n",
    "            cv2.imwrite('{}-{}.jpg'.format(output_path, index), cropped)"
   ]
  },
  {
   "cell_type": "code",
   "execution_count": null,
   "metadata": {},
   "outputs": [],
   "source": [
    "def detect_faces(image, margin):\n",
    "    \"\"\"\n",
    "    Return a list of dictionaries with coordinates locating faces in the image.\n",
    "    \"\"\"\n",
    "    coordinates = []\n",
    "    # Create the detector, using default weights\n",
    "    detector = mtcnn.MTCNN()\n",
    "    faces = detector.detect_faces(image)\n",
    "    \n",
    "    if len(faces) == 1:\n",
    "        confidence_threshold = 0.80\n",
    "    elif len(faces) > 1:\n",
    "        confidence_threshold = 0.999\n",
    "            \n",
    "    for index, face in enumerate(faces):\n",
    "        logger.info('Face confidence: {}'.format(face['confidence']))\n",
    "\n",
    "        if face['confidence'] >= confidence_threshold:\n",
    "            (x, y, w, h) = face['box']\n",
    "            \n",
    "            img_size = np.asarray(image.shape)[0:2]\n",
    "            bb = {}\n",
    "            bb['left'] = max(x-margin//2, 0)\n",
    "            bb['right'] = max(y-margin//2, 0)\n",
    "            bb['bottom'] = min(x+w+margin//2, img_size[1])\n",
    "            bb['top'] = min(y+h+margin//2, img_size[0])\n",
    "            bb['keypoints'] = face['keypoints']\n",
    "            \n",
    "            coordinates.append(bb)\n",
    "            \n",
    "    return coordinates"
   ]
  },
  {
   "cell_type": "code",
   "execution_count": null,
   "metadata": {},
   "outputs": [],
   "source": [
    "def align_face(img, keypoints):\n",
    "    \"\"\"\n",
    "    Return the face aligned based on keypoints\n",
    "    \n",
    "    Reference:\n",
    "    https://github.com/jrosebr1/imutils/blob/master/imutils/face_utils/facealigner.py\n",
    "    \"\"\"\n",
    "    (h, w) = img.shape[:2]\n",
    "        \n",
    "    # compute the angle between the eye centroids\n",
    "    dy = keypoints['right_eye'][1] - keypoints['left_eye'][1]\n",
    "    dx = keypoints['right_eye'][0] - keypoints['left_eye'][0]\n",
    "    angle = -np.degrees(np.arctan2(dy, dx))\n",
    "    logger.info('Angle: ({}, {}): {}'.format(dx, dy, angle))\n",
    "    print('Angle: ({}, {}): {}'.format(dx, dy, angle))\n",
    "\n",
    "    # compute center (x, y)-coordinates (i.e., the median point)\n",
    "    # between the two eyes in the input image\n",
    "    eyes_center = ((keypoints['left_eye'][0] + keypoints['right_eye'][0]) // 2,\n",
    "                  (keypoints['left_eye'][1] + keypoints['right_eye'][1]) // 2)\n",
    "\n",
    "    # grab the rotation matrix for rotating and scaling the face\n",
    "    M = cv2.getRotationMatrix2D(eyes_center, angle, scale=1.0)\n",
    "    aligned = cv2.warpAffine(img, M, (w, h), flags=cv2.INTER_CUBIC)\n",
    "        \n",
    "    return aligned"
   ]
  },
  {
   "cell_type": "code",
   "execution_count": null,
   "metadata": {},
   "outputs": [],
   "source": [
    "def validate_dataset(dataset_dir):\n",
    "    hashes = {}\n",
    "    \n",
    "    image_paths = glob.glob(os.path.join(dataset_dir, '**/*.jpg'))\n",
    "    for image_path in image_paths:\n",
    "        image = cv2.imread(image_path)\n",
    "        h = hashlib.sha256(image).hexdigest()\n",
    "        if h in hashes.keys():\n",
    "            print('Image is already indexed ({})'.format(h))\n",
    "            print(hashes[h])\n",
    "            print(image_path)\n",
    "        else:\n",
    "            hashes[h] = image_path"
   ]
  },
  {
   "cell_type": "markdown",
   "metadata": {},
   "source": [
    "## Process images"
   ]
  },
  {
   "cell_type": "code",
   "execution_count": null,
   "metadata": {},
   "outputs": [],
   "source": [
    "input_dir = '../data/images/'\n",
    "output_dir = '../data/images-out/'\n",
    "\n",
    "main(input_dir, output_dir, align=False)"
   ]
  },
  {
   "cell_type": "code",
   "execution_count": null,
   "metadata": {},
   "outputs": [],
   "source": [
    "validate_dataset(output_dir)"
   ]
  }
 ],
 "metadata": {
  "kernelspec": {
   "display_name": "Python 3",
   "language": "python",
   "name": "python3"
  },
  "language_info": {
   "codemirror_mode": {
    "name": "ipython",
    "version": 3
   },
   "file_extension": ".py",
   "mimetype": "text/x-python",
   "name": "python",
   "nbconvert_exporter": "python",
   "pygments_lexer": "ipython3",
   "version": "3.6.4"
  }
 },
 "nbformat": 4,
 "nbformat_minor": 2
}
